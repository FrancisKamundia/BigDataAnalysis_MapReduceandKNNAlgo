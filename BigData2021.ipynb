{
 "cells": [
  {
   "cell_type": "markdown",
   "metadata": {},
   "source": [
    "# Q1) Find the descriptive statistics for temperature of each day of a given month for the year 2007.\n",
    "We will use weather data from NCDC. You can access the hourly weather data from ‘Data Sets’ folder under the “Coursework submission” (The Data Set zipped folder). We have chosen the hourly records for April, May, June and July from year 2007. A month is represented per file. You may select any one of the four months (files) for analysis. \n",
    "\n",
    "You will find the weather data from different weather stations (wban - first column). Using the hourly data across all weather stations, find \n",
    "•the daily maximum and minimum “Dry Bulb Temp” across all the weather stations \n",
    "•the daily mean and median of “Dry Bulb Temp” over all the weather stations \n",
    "•the daily variance of “Dry Bulb Temp” over all the weather stations "
   ]
  },
  {
   "cell_type": "code",
   "execution_count": null,
   "metadata": {},
   "outputs": [],
   "source": []
  },
  {
   "cell_type": "markdown",
   "metadata": {},
   "source": [
    "Step 1: Importing libraries"
   ]
  },
  {
   "cell_type": "code",
   "execution_count": 1,
   "metadata": {},
   "outputs": [
    {
     "name": "stderr",
     "output_type": "stream",
     "text": [
      "Matplotlib is building the font cache; this may take a moment.\n"
     ]
    }
   ],
   "source": [
    "# importing libraries\n",
    "import pandas as pd\n",
    "import numpy as np\n",
    "import seaborn as sns\n",
    "import matplotlib.pyplot as plt"
   ]
  },
  {
   "cell_type": "markdown",
   "metadata": {},
   "source": [
    "Step 2: Merge all txt files to one txt file. Better working with one file"
   ]
  },
  {
   "cell_type": "code",
   "execution_count": 3,
   "metadata": {},
   "outputs": [
    {
     "name": "stdout",
     "output_type": "stream",
     "text": [
      "Enter 'x' to exit\n",
      "Enter first file name200704hourly.txt\n",
      "Enter second file name200705hourly.txt\n",
      "Enter third file name200706hourly.txt\n",
      "Enter forth file name200707hourly.txt\n",
      "Create newfile to merge contentbigdatafile.txt\n",
      "\n",
      "Merging the content of the files in bigdatafile.txt\n",
      "Content merged successfully\n",
      "want to see?(y/n):\n",
      "n\n",
      "n\n"
     ]
    }
   ],
   "source": [
    "import shutil;\n",
    "print(\"Enter 'x' to exit\");\n",
    "filename1 = input(\"Enter first file name\");\n",
    "\n",
    "if filename1 == 'x':\n",
    "    exit();\n",
    "\n",
    "else:\n",
    "    filename2 = input(\"Enter second file name\");\n",
    "    filename3 = input(\"Enter third file name\");\n",
    "    filename4 = input(\"Enter forth file name\");\n",
    "    filename5 = input(\"Create newfile to merge content\");\n",
    "    print();\n",
    "    print(\"Merging the content of the files in\",filename5);\n",
    "    with open(filename5,\"wb\") as wfd:\n",
    "        for f in[filename1,filename2,filename3,filename4]:\n",
    "            with open(f,\"rb\") as fd:\n",
    "                shutil.copyfileobj(fd,wfd,1024*1024*10);\n",
    "    print(\"Content merged successfully\");\n",
    "    print(\"want to see?(y/n):\");\n",
    "    check = input();\n",
    "    if check == input():\n",
    "        exit();\n",
    "    else:\n",
    "        print();\n",
    "        c=open(filename5,\"r\");\n",
    "        rint(c.read());\n",
    "        c.close();"
   ]
  },
  {
   "cell_type": "markdown",
   "metadata": {},
   "source": [
    "Step 3: Convert merged txt files to a csv file"
   ]
  },
  {
   "cell_type": "code",
   "execution_count": 3,
   "metadata": {},
   "outputs": [],
   "source": [
    "#Convert merged txt files to a csv file\n",
    "import csv\n",
    "\n",
    "with open('bigdatafile.txt', 'r') as in_file:\n",
    "    stripped = (line.strip() for line in in_file)\n",
    "    lines = (line.split(\",\") for line in stripped if line)\n",
    "    with open('bigdatafileall.csv', 'w') as out_file:\n",
    "        writer = csv.writer(out_file)\n",
    "        writer.writerows(lines)"
   ]
  },
  {
   "cell_type": "markdown",
   "metadata": {},
   "source": [
    "Step 4: a) Map Reduce"
   ]
  },
  {
   "cell_type": "code",
   "execution_count": 17,
   "metadata": {},
   "outputs": [],
   "source": [
    "import sys\n",
    "\n",
    "(last_key,max_val)=(None,0)\n",
    "\n",
    "for line in sys.stdin:\n",
    "    (key,val)=Wban_Number.Dry_Bulb_Temp\n",
    "\n",
    "    if last_key and last_key !=key:\n",
    "        print((last_key,max_val))\n",
    "        (last_key,max_val)=(key,float(val))\n",
    "    else:\n",
    "        (last_key,max_val)=(key,max(max_val,float(val)))\n",
    "\n",
    "if last_key:\n",
    "    print((last_key,max_val))"
   ]
  },
  {
   "cell_type": "markdown",
   "metadata": {},
   "source": [
    "b) Max Mapper"
   ]
  },
  {
   "cell_type": "code",
   "execution_count": 19,
   "metadata": {},
   "outputs": [],
   "source": [
    "#! /usr/bin/env python3\n",
    "import sys\n",
    "\n",
    "Station_Type = None\n",
    "Year_Month_Day = None\n",
    "current_max_temp = 0\n",
    "\n",
    "for line in sys.stdin:\n",
    "    # split the line by comma and obtain the date and hourly dry bulb temperature   \n",
    "    try:\n",
    "        Time = line.split(\",\")\n",
    "        Station_Type = hourly_weather[0]\n",
    "        Year_Month_Day = hourly_weather[1]\n",
    "        Dry_Bulb_Temp = float(hourly_weather[8])\n",
    "    except (ValueError, IndexError):\n",
    "        continue\n",
    "\n",
    "    # given that the data is already sorted by date and station\n",
    "    if Station_Type == current_station and Year_Month_Day == current_date:\n",
    "        if Dry_Bulb_Temp > current_max_temp:\n",
    "            current_max_temp = Dry_Bulb_Temp\n",
    "    else:\n",
    "        if current_date:\n",
    "            print (\"%s\\t%s\" % (Year_Month_Day, Dry_Bulb_Temp))\n",
    "        current_date = date\n",
    "        current_station = station\n",
    "        current_max_temp = dry_bulb_temp"
   ]
  },
  {
   "cell_type": "markdown",
   "metadata": {},
   "source": [
    "c) Max Reducer"
   ]
  },
  {
   "cell_type": "code",
   "execution_count": 20,
   "metadata": {},
   "outputs": [],
   "source": [
    "#! /usr/bin/env python3\n",
    "import sys\n",
    "\n",
    "current_date = None\n",
    "current_max_temp = 0\n",
    "\n",
    "for line in sys.stdin:\n",
    "    date, temp = line.split('\\t', 1)\n",
    "\n",
    "    temp = float(temp)\n",
    "\n",
    "    if date == current_date:\n",
    "        if temp > current_max_temp:\n",
    "            current_max_temp = temp\n",
    "\n",
    "    else:\n",
    "        if current_date:\n",
    "            print (\"%s\\t%s\" % (current_date, current_max_temp))\n",
    "        current_date = date\n",
    "        current_max_temp = temp\n",
    "\n",
    "# print the last row\n",
    "if current_date:\n",
    "    print (\"%s\\t%s\" % (current_date, current_max_temp))"
   ]
  },
  {
   "cell_type": "markdown",
   "metadata": {},
   "source": [
    "d) Min Mapper"
   ]
  },
  {
   "cell_type": "code",
   "execution_count": 21,
   "metadata": {},
   "outputs": [],
   "source": [
    "#! /usr/bin/env python3\n",
    "import sys\n",
    "\n",
    "current_station = None\n",
    "current_date = None\n",
    "current_min_temp = 0\n",
    "\n",
    "for line in sys.stdin:\n",
    "    # split the line by comma and obtain the date and hourly dry bulb temperature\n",
    "    try:\n",
    "        hourly_weather = line.split(\",\")\n",
    "        station = hourly_weather[0]\n",
    "        date = hourly_weather[1]\n",
    "        dry_bulb_temp = float(hourly_weather[8])\n",
    "    except (ValueError, IndexError):\n",
    "        continue\n",
    "\n",
    "    # given that the data is already sorted by date and station\n",
    "    if station == current_station and date == current_date:\n",
    "        if dry_bulb_temp < current_min_temp:\n",
    "            current_min_temp = dry_bulb_temp\n",
    "    else:\n",
    "        if current_date:\n",
    "            print (\"%s\\t%s\" % (current_date, current_min_temp))\n",
    "        current_date = date\n",
    "        current_station = station\n",
    "        current_min_temp = dry_bulb_temp"
   ]
  },
  {
   "cell_type": "markdown",
   "metadata": {},
   "source": [
    "e) Min Reducer"
   ]
  },
  {
   "cell_type": "code",
   "execution_count": 22,
   "metadata": {},
   "outputs": [],
   "source": [
    "#! /usr/bin/env python3\n",
    "import sys\n",
    "\n",
    "current_date = None\n",
    "current_min_date = 0\n",
    "\n",
    "for line in sys.stdin:\n",
    "    date, temp = line.split('\\t', 1)\n",
    "\n",
    "    temp = float(temp)\n",
    "\n",
    "    if date == current_date:\n",
    "        if temp < current_min_date:\n",
    "            current_min_date = temp\n",
    "\n",
    "    else:\n",
    "        if current_date:\n",
    "            print (\"%s\\t%s\" % (current_date, current_min_date))\n",
    "        current_date = date\n",
    "        current_min_date = temp\n",
    "\n",
    "# print the last row\n",
    "if current_date:\n",
    "    print (\"%s\\t%s\" % (current_date, current_min_date))"
   ]
  },
  {
   "cell_type": "markdown",
   "metadata": {},
   "source": [
    "f) Daily Variance"
   ]
  },
  {
   "cell_type": "code",
   "execution_count": null,
   "metadata": {},
   "outputs": [],
   "source": []
  },
  {
   "cell_type": "markdown",
   "metadata": {},
   "source": [
    "# Q2) Cluster Analysis using Apache Mahout. \n",
    "For this question, you can use the data (The Data Set zipped folder) provided in Topic 4 for the k-means algorithm. You are welcome to use your own dataset for this question. If you choose to do so, please provide a link to the data in your report. \n",
    "\n",
    "As we discussed in the text clustering topic (Topic 4), the terms of the documents are considered as features in text clustering. The vector space model is an algebraic model that maps the terms in a document into n-dimensional linear space. However, we need to represent the textual information (terms) as a numerical representation and create feature vectors using the numerical values to evaluate the similarity between data points. \n",
    "\n",
    "Use Apache Mahout and perform the standard steps for the cluster analysis, 1) create sequence files from the raw text, 2) create a sparse (efficient) representation of the vectors, initializing approximate centroids for K-Means, 3) run the K-Means algorithm, 4) get the final iteration’s clustering solution, and 5) evaluate the final solution.\n",
    "\n",
    "•\tImplement the K-Means clustering algorithm with cosine distance to cluster the instances into K clusters.\n",
    "\n",
    "•\tVary the value of K and comment on the precision.\n",
    "\n",
    "•\tPlot a graph that shows the relation between the average distance to the cluster centroid (or efficiency metric) and the K-value.\n",
    "\n",
    "•\tTry to smooth the graph so that you can explain the value of K as the best value such that beyond this value there wouldn’t be a significant reduction in the average distance to the cluster centroids.\n",
    "\n",
    "•\tConsider other distance measure of your choice and compare the different clusters you obtained in both the cases. Discuss which is the best setting for K-means clustering for this dataset."
   ]
  },
  {
   "cell_type": "markdown",
   "metadata": {},
   "source": [
    "k-Nearest Neighbor(k-NN) is an instance-based supervised learning algorithm which classifies a new instance by comparing it with already stored instances in the memory that have already been seen in training. This will be implemented using the iris dataset found on the link below.\n",
    "\n",
    "link to the dataset: https://www.kaggle.com/uciml/iris/download\n",
    "\n",
    "The Cosine distance will be compared to other distastace metric measures.(Euclidean Distance and the Normalized Euclidean)\n",
    "k-Nearest Neighbor(k-NN) is an instance-based supervised learning algorithm which classifies a new instance by comparing it with already stored instances in the memory that have already been seen in training. This will be implemented using the iris dataset found on the link below.\n",
    "\n",
    "link to the dataset: https://www.kaggle.com/uciml/iris/download\n",
    "\n",
    "The Cosine distance will be compared to other distastace metric measures.(Euclidean Distance and the Normalized Euclidean)"
   ]
  },
  {
   "cell_type": "markdown",
   "metadata": {},
   "source": [
    "> Step 1 : Loading the libraries which are required"
   ]
  },
  {
   "cell_type": "code",
   "execution_count": null,
   "metadata": {},
   "outputs": [],
   "source": [
    "import pandas as pd\n",
    "import numpy as np\n",
    "import operator\n",
    "import matplotlib.pyplot as plt"
   ]
  },
  {
   "cell_type": "markdown",
   "metadata": {},
   "source": [
    "> Step 2 : Load the dataset"
   ]
  },
  {
   "cell_type": "code",
   "execution_count": null,
   "metadata": {},
   "outputs": [],
   "source": [
    "# loading the dataset\n",
    "data = pd.read_csv('bigdatafileall.csv')\n",
    "data.head()"
   ]
  },
  {
   "cell_type": "markdown",
   "metadata": {},
   "source": [
    "C:\\Users\\HP\\anaconda3\\lib\\site-packages\\IPython\\core\\interactiveshell.py:3165: DtypeWarning: Columns (2,16) have mixed types.Specify dtype option on import or set low_memory=False.\n",
    "  has_raised = await self.run_ast_nodes(code_ast.body, cell_name,"
   ]
  },
  {
   "cell_type": "code",
   "execution_count": 42,
   "metadata": {},
   "outputs": [
    {
     "data": {
      "image/png": "[encoded data removed]",
      "text/plain": [
       "<IPython.core.display.Image object>"
      ]
     },
     "execution_count": 42,
     "metadata": {},
     "output_type": "execute_result"
    }
   ],
   "source": [
    "from IPython.display import Image\n",
    "Image(filename='header.PNG')"
   ]
  },
  {
   "cell_type": "markdown",
   "metadata": {},
   "source": [
    "Step 3 : Divide the dataset into development set and test set."
   ]
  },
  {
   "cell_type": "code",
   "execution_count": null,
   "metadata": {},
   "outputs": [],
   "source": [
    "indices = np.random.permutation(data.shape[0])\n",
    "div = int(0.75 * len(indices))\n",
    "development_id, test_id = indices[:div], indices[div:]\n",
    "\n",
    "development_set, test_set = data.loc[development_id,:], data.loc[test_id,:]\n",
    "print(\"Development Set:\\n\", development_set, \"\\n\\nTest Set:\\n\", test_set)"
   ]
  },
  {
   "cell_type": "markdown",
   "metadata": {},
   "source": [
    "Development Set:\n",
    "          Wban_Number  Year_Month_Day  Time Station_Type Maintenance_Indicator  \\\n",
    "90593           3872        20070419  1415         AO2                      -   \n",
    "14321           3040        20070422  2352         AO2                      -   \n",
    "790272         25617        20070426  1956         AO1                      -   \n",
    "265648          4969        20070430   255         AO2                      -   \n",
    "1041255        63822        20070424  1640         AO1                      -   \n",
    "...              ...             ...   ...          ...                   ...   \n",
    "896664         53872        20070419  2153         AO2                      -   \n",
    "706061         24091        20070425   753         AO2                      -   \n",
    "191142          4857        20070427  1727         AO2                      -   \n",
    "133504          3974        20070412  1054         AO2                      -   \n",
    "615806         23048        20070425  1053         AO2                      -   \n",
    "\n",
    "                                        Sky_Conditions Visibility  \\\n",
    "90593    FEW001 BKN034 OVC040                             3SM       \n",
    "14321    OVC012                                           10SM      \n",
    "790272   CLR                                              10SM      \n",
    "265648   CLR                                              10SM      \n",
    "1041255  CLR                                              10SM      \n",
    "...                                                ...        ...   \n",
    "896664   BKN060 OVC090                                    5SM       \n",
    "706061   OVC011                                           6SM       \n",
    "191142   BKN025 OVC033                                    10SM      \n",
    "133504   FEW031                                           10SM      \n",
    "615806   CLR                                              10SM      \n",
    "\n",
    "        Weather_Type Dry_Bulb_Temp Dew_Point_Temp  ... %_Relative_Humidity  \\\n",
    "90593         #NAME?             -              -  ...                   -   \n",
    "14321              -            43             37  ...                  79   \n",
    "790272             -             -              -  ...                   -   \n",
    "265648             -            50             32  ...                  50   \n",
    "1041255            -            84             50  ...                  31   \n",
    "...              ...           ...            ...  ...                 ...   \n",
    "896664        #NAME?            50             47  ...                  89   \n",
    "706061        #NAME?            37             34  ...                  89   \n",
    "191142             -             -              -  ...                   -   \n",
    "133504             -            45             30  ...                  56   \n",
    "615806             -            63             28  ...                  27   \n",
    "\n",
    "        Wind_Speed (kt) Wind_Direction Wind _Char_Gusts Val_for Wind Char.  \\\n",
    "90593                 0              0                -                  0   \n",
    "14321                17            170                -                  0   \n",
    "790272               10             20                G                 15   \n",
    "265648                4             60                -                  0   \n",
    "1041255               6            200                -                  0   \n",
    "...                 ...            ...              ...                ...   \n",
    "896664                5             70                -                  0   \n",
    "706061               22            350                G                 30   \n",
    "191142               11            290                -                  0   \n",
    "133504                9             30                G                 14   \n",
    "615806               24            360                G                 33   \n",
    "\n",
    "        Station_Pressure Pressure_Tendency Sea_Level_Pressure Record_Type  \\\n",
    "90593                  -                 -                  -          SP   \n",
    "14321              29.96                 -                  -          AA   \n",
    "790272              29.5                 -                  -          AA   \n",
    "265648             29.96                 -                  -          AA   \n",
    "1041255            30.09                 -                  -          AA   \n",
    "...                  ...               ...                ...         ...   \n",
    "896664             29.24                 1                165          AA   \n",
    "706061             26.68                 1                194          AA   \n",
    "191142                 -                 -                  -          SP   \n",
    "133504             28.59                 -                204          AA   \n",
    "615806             25.89                 8                142          AA   \n",
    "\n",
    "        Precip_Total  \n",
    "90593              -  \n",
    "14321              -  \n",
    "790272             -  \n",
    "265648             -  \n",
    "1041255            -  \n",
    "...              ...  \n",
    "896664          0.04  \n",
    "706061          0.04  \n",
    "191142             -  \n",
    "133504             -  \n",
    "615806             -  \n",
    "\n",
    "[786431 rows x 21 columns] \n",
    "\n",
    "Test Set:\n",
    "          Wban_Number  Year_Month_Day  Time Station_Type Maintenance_Indicator  \\\n",
    "993128         54782        20070401   454         AO2                      -   \n",
    "300425         12849        20070404   153         AO2                      -   \n",
    "860266         46406        20070414  1856            -                     -   \n",
    "598676         22516        20070423   754         AO2                      -   \n",
    "639415         23130        20070425  1351         AO2                      -   \n",
    "...              ...             ...   ...          ...                   ...   \n",
    "1041395        63822        20070430  1240         AO1                      -   \n",
    "959306         53971        20070407   845         AO2                      -   \n",
    "256326          4956        20070416  1142         AO2                      -   \n",
    "407894         13869        20070412   753         AO2                      -   \n",
    "956877         53966        20070424  1745         AO2                      -   \n",
    "\n",
    "                                        Sky_Conditions Visibility  \\\n",
    "993128   BKN070 OVC090                                    10SM      \n",
    "300425   FEW022                                           10SM      \n",
    "860266   SCT060 BKN090 OVC250                             20SM      \n",
    "598676   FEW041 BKN065 OVC080                             10SM      \n",
    "639415   FEW300                                           10SM      \n",
    "...                                                ...        ...   \n",
    "1041395  CLR                                              10SM      \n",
    "959306   OVC080                                           10SM      \n",
    "256326   CLR                                              10SM      \n",
    "407894   CLR                                              10SM      \n",
    "956877   CLR                                              7SM       \n",
    "\n",
    "        Weather_Type Dry_Bulb_Temp Dew_Point_Temp  ... %_Relative_Humidity  \\\n",
    "993128             -            42             32  ...                  68   \n",
    "300425             -            74             64  ...                  71   \n",
    "860266             -             -              -  ...                   -   \n",
    "598676             -            70             61  ...                  73   \n",
    "639415             -            82             42  ...                  24   \n",
    "...              ...           ...            ...  ...                 ...   \n",
    "1041395            -            88             34  ...                  15   \n",
    "959306             -             -              -  ...                   -   \n",
    "256326             -            63             30  ...                  29   \n",
    "407894             -            65             50  ...                  59   \n",
    "956877             -             -              -  ...                   -   \n",
    "\n",
    "        Wind_Speed (kt) Wind_Direction Wind _Char_Gusts Val_for Wind Char.  \\\n",
    "993128                5             70                -                  0   \n",
    "300425                7            130                -                  0   \n",
    "860266                8            240                -                  0   \n",
    "598676               11             50                -                  0   \n",
    "639415               10            140                -                  0   \n",
    "...                 ...            ...              ...                ...   \n",
    "1041395               4            190                -                  0   \n",
    "959306               10             40                -                  0   \n",
    "256326                5            110                -                  0   \n",
    "407894                5            290                -                  0   \n",
    "956877               22            170                G                 30   \n",
    "\n",
    "        Station_Pressure Pressure_Tendency Sea_Level_Pressure Record_Type  \\\n",
    "993128              29.9                 -                236          AA   \n",
    "300425             29.88                 -                161          AA   \n",
    "860266             29.43                 -                  -          AA   \n",
    "598676             30.14                 1                225          AA   \n",
    "639415             29.07                 -                129          AA   \n",
    "...                  ...               ...                ...         ...   \n",
    "1041395            30.04                 -                  -          AA   \n",
    "959306             30.36                 -                  -          AA   \n",
    "256326             30.06                 -                  -          AA   \n",
    "407894             29.75                 -                147          AA   \n",
    "956877              29.7                 -                  -          AA   \n",
    "\n",
    "        Precip_Total  \n",
    "993128            T   \n",
    "300425             -  \n",
    "860266             -  \n",
    "598676            T   \n",
    "639415             -  \n",
    "...              ...  \n",
    "1041395            -  \n",
    "959306             -  \n",
    "256326             -  \n",
    "407894             -  \n",
    "956877             -  \n",
    "\n",
    "[262144 rows x 21 columns]"
   ]
  },
  {
   "cell_type": "code",
   "execution_count": null,
   "metadata": {},
   "outputs": [],
   "source": [
    "#Compute the mean and standard deviation of the development and test sets, to compute the normalized euclidean distance.\n",
    "mean_development_set = development_set.mean()\n",
    "mean_test_set = test_set.mean()\n",
    "std_development_set = development_set.std()\n",
    "std_test_set = test_set.std()"
   ]
  },
  {
   "cell_type": "code",
   "execution_count": null,
   "metadata": {},
   "outputs": [],
   "source": [
    "#Retrieve the ‘class’ column from the development and test sets and store it in separate lists.\n",
    "test_class = list(test_set.iloc[:,-1])\n",
    "dev_class = list(development_set.iloc[:,-1]"
   ]
  },
  {
   "cell_type": "markdown",
   "metadata": {},
   "source": [
    "Step 4 : Define functions to compute the value of the distance metrics: Euclidean, Normalized Euclidean and Cosine Similarity"
   ]
  },
  {
   "cell_type": "code",
   "execution_count": null,
   "metadata": {},
   "outputs": [],
   "source": [
    "def euclideanDistance(data_1, data_2, data_len):\n",
    "    dist = 0\n",
    "    for i in range(data_len):\n",
    "        dist = dist + np.square(data_1[i] - data_2[i])\n",
    "    return np.sqrt(dist)\n",
    "\n",
    "def normalizedEuclideanDistance(data_1, data_2, data_len, data_mean, data_std):\n",
    "    n_dist = 0\n",
    "    for i in range(data_len):\n",
    "        n_dist = n_dist + (np.square(((data_1[i] - data_mean[i])/data_std[i]) - ((data_2[i] - data_mean[i])/data_std[i])))\n",
    "    return np.sqrt(n_dist)\n",
    "\n",
    "def cosineSimilarity(data_1, data_2):\n",
    "    dot = np.dot(data_1, data_2[:-1])\n",
    "    norm_data_1 = np.linalg.norm(data_1)\n",
    "    norm_data_2 = np.linalg.norm(data_2[:-1])\n",
    "    cos = dot / (norm_data_1 * norm_data_2)\n",
    "    return (1-cos)"
   ]
  },
  {
   "cell_type": "markdown",
   "metadata": {},
   "source": [
    "Define the function to return k-Nearest Neighbors"
   ]
  },
  {
   "cell_type": "code",
   "execution_count": null,
   "metadata": {},
   "outputs": [],
   "source": [
    "# defining the funtion.\n",
    "def knn(dataset, testInstance, k, dist_method, dataset_mean, dataset_std): \n",
    "    distances = {}\n",
    "    length = testInstance.shape[1]\n",
    "    if dist_method == 'euclidean':\n",
    "        for x in range(len(dataset)):\n",
    "            dist_up = euclideanDistance(testInstance, dataset.iloc[x], length)\n",
    "            distances[x] = dist_up[0]\n",
    "    elif dist_method == 'normalized_euclidean':\n",
    "        for x in range(len(dataset)):\n",
    "            dist_up = normalizedEuclideanDistance(testInstance, dataset.iloc[x], length, dataset_mean, dataset_std)\n",
    "            distances[x] = dist_up[0]\n",
    "    elif dist_method == 'cosine':\n",
    "        for x in range(len(dataset)):\n",
    "            dist_up = cosineSimilarity(testInstance, dataset.iloc[x])\n",
    "            distances[x] = dist_up[0]\n",
    "    # Sort values based on distance\n",
    "    sort_distances = sorted(distances.items(), key=operator.itemgetter(1))\n",
    "    neighbors = []\n",
    "    # Extracting nearest k neighbors\n",
    "    for x in range(k):\n",
    "        neighbors.append(sort_distances[x][0])\n",
    "    # Initializing counts for 'class' labels counts as 0\n",
    "    counts = {\"Iris-setosa\" : 0, \"Iris-versicolor\" : 0, \"Iris-virginica\" : 0}\n",
    "    # Computing the most frequent class\n",
    "    for x in range(len(neighbors)):\n",
    "        response = dataset.iloc[neighbors[x]][-1] \n",
    "        if response in counts:\n",
    "            counts[response] += 1\n",
    "        else:\n",
    "            counts[response] = 1\n",
    "    # Sorting the class in reverse order to get the most frequest class\n",
    "    sort_counts = sorted(counts.items(), key=operator.itemgetter(1), reverse=True)\n",
    "    return(sort_counts[0][0])"
   ]
  },
  {
   "cell_type": "markdown",
   "metadata": {},
   "source": [
    "Step 5 : Using the development dataset, iterate over all of the development data instances and compute the class for each k value and each distance metric."
   ]
  },
  {
   "cell_type": "code",
   "execution_count": null,
   "metadata": {},
   "outputs": [],
   "source": [
    "# Creating a list of list of all columns except 'class' by iterating through the development set\n",
    "row_list = []\n",
    "for index, rows in development_set.iterrows():\n",
    "    my_list =[rows.SepalLengthCm, rows.SepalWidthCm, rows.PetalLengthCm, rows.PetalWidthCm]       \n",
    "    row_list.append([my_list])\n",
    "# k values for the number of neighbors that need to be considered\n",
    "k_n = [1, 3, 5, 7]\n",
    "# Distance metrics\n",
    "distance_methods = ['euclidean', 'normalized_euclidean', 'cosine']\n",
    "# Performing kNN on the development set by iterating all of the development set data points and for each k and each distance metric\n",
    "obs_k = {}\n",
    "for dist_method in distance_methods:\n",
    "    development_set_obs_k = {}\n",
    "    for k in k_n:\n",
    "        development_set_obs = []\n",
    "        for i in range(len(row_list)):\n",
    "          development_set_obs.append(knn(development_set, pd.DataFrame(row_list[i]), k, dist_method, mean_development_set, std_development_set))\n",
    "        development_set_obs_k[k] = development_set_obs\n",
    "    # Nested Dictionary containing the observed class for each k and each distance metric (obs_k of the form obs_k[dist_method][k])\n",
    "    obs_k[dist_method] = development_set_obs_k\n",
    "#print(obs_k)"
   ]
  },
  {
   "cell_type": "markdown",
   "metadata": {},
   "source": [
    "Compute the accuracy for the development set"
   ]
  },
  {
   "cell_type": "code",
   "execution_count": null,
   "metadata": {},
   "outputs": [],
   "source": [
    "# Calculating the accuracy of the development set by comparing it with the development set 'class' list created earlier\n",
    "accuracy = {}\n",
    "for key in obs_k.keys():\n",
    "    accuracy[key] = {}\n",
    "    for k_value in obs_k[key].keys():\n",
    "        #print('k = ', key)\n",
    "        count = 0\n",
    "        for i,j in zip(dev_class, obs_k[key][k_value]):\n",
    "            if i == j:\n",
    "                count = count + 1\n",
    "            else:\n",
    "                pass\n",
    "        accuracy[key][k_value] = count/(len(dev_class))\n",
    "\n",
    "# Storing the accuracy for each k and each distance metric into a dataframe\n",
    "df_res = pd.DataFrame({'k': k_n})\n",
    "for key in accuracy.keys():\n",
    "    value = list(accuracy[key].values())\n",
    "    df_res[key] = value\n",
    "print(df_res)"
   ]
  },
  {
   "cell_type": "code",
   "execution_count": 34,
   "metadata": {},
   "outputs": [
    {
     "data": {
      "image/png": "[encoded data removed]",
      "text/plain": [
       "<IPython.core.display.Image object>"
      ]
     },
     "execution_count": 34,
     "metadata": {},
     "output_type": "execute_result"
    }
   ],
   "source": [
    "from IPython.display import Image\n",
    "Image(filename='euclidean.PNG')"
   ]
  },
  {
   "cell_type": "markdown",
   "metadata": {},
   "source": [
    "Plot a bar chart to compare the performance of hyperparameters."
   ]
  },
  {
   "cell_type": "code",
   "execution_count": null,
   "metadata": {},
   "outputs": [],
   "source": [
    "# Plotting a Bar Chart for accuracy\n",
    "draw = df_res.plot(x='k', y=['euclidean', 'normalized_euclidean', 'cosine'], kind=\"bar\")\n",
    "draw.set(ylabel='Accuracy')"
   ]
  },
  {
   "cell_type": "markdown",
   "metadata": {},
   "source": [
    "[Text(0, 0.5, 'Accuracy')]"
   ]
  },
  {
   "cell_type": "code",
   "execution_count": 37,
   "metadata": {},
   "outputs": [
    {
     "data": {
      "image/png": "[encoded data removed]",
      "text/plain": [
       "<IPython.core.display.Image object>"
      ]
     },
     "execution_count": 37,
     "metadata": {},
     "output_type": "execute_result"
    }
   ],
   "source": [
    "from IPython.display import Image\n",
    "Image(filename='euclideangraph.png')"
   ]
  },
  {
   "cell_type": "markdown",
   "metadata": {},
   "source": [
    "Ignoring k=1 if the value of accuracy for k=1 is 100%, since this more than often implies overfitting. Replace it with the value of numpy.nan."
   ]
  },
  {
   "cell_type": "code",
   "execution_count": null,
   "metadata": {},
   "outputs": [],
   "source": [
    "df_res.loc[df_res['k'] == 1.0, ['euclidean', 'normalized_euclidean', 'cosine']] = np.nan"
   ]
  },
  {
   "cell_type": "markdown",
   "metadata": {},
   "source": [
    "Step 6 : Find the optimal hyperparameters."
   ]
  },
  {
   "cell_type": "code",
   "execution_count": null,
   "metadata": {},
   "outputs": [],
   "source": [
    "# In case the accuracy is the same for different k and different distance metric selecting the first of all the same\n",
    "column_val = [c for c in df_res.columns if not c.startswith('k')]\n",
    "col_max = df_res[column_val].max().idxmax(1)\n",
    "best_dist_method = col_max\n",
    "row_max = df_res[col_max].argmax()\n",
    "best_k = int(df_res.iloc[row_max]['k'])\n",
    "if df_res.isnull().values.any():\n",
    "    print('\\n\\n\\nBest k value is\\033[1m', best_k, '\\033[0mand best distance metric is\\033[1m', best_dist_method, '\\033[0m. Ignoring k=1 if the value of accuracy for k=1 is 100%, since this mostly implies overfitting')\n",
    "else:\n",
    "    print('\\n\\n\\nBest k value is\\033[1m', best_k, '\\033[0mand best distance metric is\\033[1m', best_dist_method, '\\033[0m.')\n",
    "\n",
    "\n",
    "Best k value is 7 and best distance metric is euclidean . Ignoring k=1 if the value of accuracy for k=1 is 100%, since this mostly implies overfitting"
   ]
  },
  {
   "cell_type": "markdown",
   "metadata": {},
   "source": [
    "Step 7 : Use the test set and the optimal hyperparameters to compute the final accuracy."
   ]
  },
  {
   "cell_type": "code",
   "execution_count": null,
   "metadata": {},
   "outputs": [],
   "source": [
    "# Creating a list of list of all columns except 'class' by iterating through the development set\n",
    "row_list_test = []\n",
    "for index, rows in test_set.iterrows(): \n",
    "    my_list =[rows.SepalLengthCm, rows.SepalWidthCm, rows.PetalLengthCm, rows.PetalWidthCm]       \n",
    "    row_list_test.append([my_list])\n",
    "test_set_obs = []\n",
    "for i in range(len(row_list_test)):\n",
    "    test_set_obs.append(knn(test_set, pd.DataFrame(row_list_test[i]), best_k, best_dist_method, mean_test_set, std_test_set))\n",
    "#print(test_set_obs)"
   ]
  },
  {
   "cell_type": "code",
   "execution_count": null,
   "metadata": {},
   "outputs": [],
   "source": [
    "count = 0\n",
    "\n",
    "for i,j in zip(test_class, test_set_obs):\n",
    "    if i == j:\n",
    "        count = count + 1\n",
    "    else:\n",
    "        pass\n",
    "accuracy_test = count/(len(test_class))\n",
    "print('Final Accuracy of the Test dataset is ', accuracy_test)"
   ]
  },
  {
   "cell_type": "markdown",
   "metadata": {},
   "source": [
    "Final Accuracy of the Test dataset is 0.9473684210526315"
   ]
  },
  {
   "cell_type": "code",
   "execution_count": null,
   "metadata": {},
   "outputs": [],
   "source": [
    "A final accuracy of above 90% is achieved using Cosine Similarity as the distance metric and the k-value of 3. The model gives good results ignoring the value of K=1 which resulted to overfitting."
   ]
  }
 ],
 "metadata": {
  "kernelspec": {
   "display_name": "Python 3",
   "language": "python",
   "name": "python3"
  },
  "language_info": {
   "codemirror_mode": {
    "name": "ipython",
    "version": 3
   },
   "file_extension": ".py",
   "mimetype": "text/x-python",
   "name": "python",
   "nbconvert_exporter": "python",
   "pygments_lexer": "ipython3",
   "version": "3.8.5"
  }
 },
 "nbformat": 4,
 "nbformat_minor": 5
}
